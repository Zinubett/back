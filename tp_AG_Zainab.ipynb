{
  "nbformat": 4,
  "nbformat_minor": 0,
  "metadata": {
    "colab": {
      "provenance": [],
      "authorship_tag": "ABX9TyOza7VkEZdR/6tJdB6KXb/y",
      "include_colab_link": true
    },
    "kernelspec": {
      "name": "python3",
      "display_name": "Python 3"
    },
    "language_info": {
      "name": "python"
    }
  },
  "cells": [
    {
      "cell_type": "markdown",
      "metadata": {
        "id": "view-in-github",
        "colab_type": "text"
      },
      "source": [
        "<a href=\"https://colab.research.google.com/github/Zinubett/back/blob/main/tp_AG_Zainab.ipynb\" target=\"_parent\"><img src=\"https://colab.research.google.com/assets/colab-badge.svg\" alt=\"Open In Colab\"/></a>"
      ]
    },
    {
      "cell_type": "code",
      "execution_count": 3,
      "metadata": {
        "id": "j03cJZ1_oqON"
      },
      "outputs": [],
      "source": [
        "import random\n",
        "import math\n",
        "\n",
        "POPULATION_SIZE = 5\n",
        "NB_GENES = 15\n",
        "MUTATION_RATE = 0.2\n",
        "CROSSING_RATE = 0.7\n",
        "\n",
        "TOURNAMENT_SELECTION_SIZE = 4\n",
        "\n",
        "# nombre de combinaisons possible = factoriel de NB_GENES \n",
        "# donc pour eviter la redandance des individus on peut definir la taille de la population inferieur ou egale aux total des combinaisons\n",
        "\n",
        "# Villes = [(4, 8), (5, 5), (7, 3), (3, 7), (2, 6), (0, 7), (9, 4), (6, 7), (9, 8), (7, 4)]\n",
        "\n",
        "# ou bien \n",
        "Villes = []\n",
        "i=0\n",
        "while i < NB_GENES:\n",
        "  ville = (random.randint(0,9),random.randint(0,9))\n",
        "  if ville not in Villes:\n",
        "    Villes.append(ville)\n",
        "    i += 1"
      ]
    },
    {
      "cell_type": "code",
      "source": [
        "Villes"
      ],
      "metadata": {
        "colab": {
          "base_uri": "https://localhost:8080/"
        },
        "id": "BZ7MFhnFpjMM",
        "outputId": "76c67606-8163-4a78-9e6c-c9fa8c5e657f"
      },
      "execution_count": 2,
      "outputs": [
        {
          "output_type": "execute_result",
          "data": {
            "text/plain": [
              "[(0, 6),\n",
              " (3, 3),\n",
              " (9, 0),\n",
              " (2, 5),\n",
              " (0, 9),\n",
              " (2, 1),\n",
              " (7, 2),\n",
              " (4, 5),\n",
              " (4, 6),\n",
              " (1, 3),\n",
              " (7, 3),\n",
              " (6, 0),\n",
              " (5, 2),\n",
              " (7, 1),\n",
              " (0, 0)]"
            ]
          },
          "metadata": {},
          "execution_count": 2
        }
      ]
    },
    {
      "cell_type": "code",
      "source": [
        "class Chromosome:\n",
        "    '''Chromosome Init'''\n",
        "    def __init__(self, villes):\n",
        "        self.genes = []\n",
        "        self.fitness = 0\n",
        "        i = 0\n",
        "        while i < NB_GENES:\n",
        "          ville = Villes[random.randint(0,NB_GENES - 1)]\n",
        "          if ville not in self.genes:\n",
        "            self.genes.append(ville)\n",
        "            i += 1\n",
        "         \n",
        "          \n",
        "    def get_genes(self):\n",
        "        return self.genes\n",
        "\n",
        "    def get_X(self,pos):\n",
        "        return self.genes[pos][0]\n",
        "\n",
        "    def get_Y(self, pos):\n",
        "        return self.genes[pos][1]\n",
        "\n",
        "    def get_fitness(self):\n",
        "        self.fitness = 0\n",
        "\n",
        "        for i in range(NB_GENES-1):\n",
        "          #distance = math.sqrt((x1 - x2)**2 + (y1 - y2)**2)\n",
        "                # self.fitness += math.sqrt((self.genes[i][0] - self.genes[i+1][0])**2 + (self.genes[i][1] - self.genes[i+1][1])**2)\n",
        "\n",
        "                self.fitness += math.sqrt((self.get_X(i) - self.get_X(i+1))**2 + (self.get_Y(i) - self.get_Y(i+1))**2)\n",
        "        self.fitness += math.sqrt((self.get_X(NB_GENES-1) - self.get_X(0))**2 + (self.get_Y(NB_GENES-1) - self.get_Y(0))**2)       \n",
        "        return round(self.fitness, 2) \n",
        "\n",
        "    def __str__(self):\n",
        "        return self.genes.__str__()"
      ],
      "metadata": {
        "id": "Tsb58bgLp2As"
      },
      "execution_count": 4,
      "outputs": []
    },
    {
      "cell_type": "code",
      "source": [
        "Chromosome(Villes).__str__()"
      ],
      "metadata": {
        "colab": {
          "base_uri": "https://localhost:8080/",
          "height": 35
        },
        "id": "tFG9azUIqOU4",
        "outputId": "b4fc6b74-393c-4bed-aa6a-6c7c7e169de2"
      },
      "execution_count": 5,
      "outputs": [
        {
          "output_type": "execute_result",
          "data": {
            "text/plain": [
              "'[(4, 8), (5, 6), (7, 2), (6, 3), (3, 2), (8, 7), (5, 2), (3, 5), (9, 7), (9, 0), (7, 5), (4, 9), (4, 0), (3, 0), (0, 1)]'"
            ],
            "application/vnd.google.colaboratory.intrinsic+json": {
              "type": "string"
            }
          },
          "metadata": {},
          "execution_count": 5
        }
      ]
    },
    {
      "cell_type": "code",
      "source": [
        "class Population:\n",
        "    '''Population Init'''\n",
        "    def __init__(self, size):\n",
        "        self.chromosomes = []\n",
        "        i = 0\n",
        "        while i < size :\n",
        "            self.chromosomes.append( Chromosome(Villes) )\n",
        "            i += 1\n",
        "        self.chromosomes.sort(key=lambda x: x.get_fitness(), reverse=False)\n",
        "\n",
        "    '''Get All Population Chromosomes'''\n",
        "    def get_chromosomes(self):\n",
        "        return self.chromosomes\n",
        "\n",
        "    def print_population(self, gen_number):\n",
        "        print(\"\\n-----------------------Generation Summary---------------------------\")\n",
        "        print(\"--------------------------------------------------------------------\")\n",
        "        print(\"Generation #\", gen_number, \"| Fittest chromosome fitness:\", self.get_chromosomes()[0].get_fitness())\n",
        "        # print(\"Target chromosome\", TARGET_CHROMOSOME)\n",
        "        print(\"--------------------------------------------------------------------\")\n",
        "        i = 0\n",
        "        for x in self.get_chromosomes():\n",
        "            print(\"Chromosome #\",i,\" :\",x,\"| Fitness\", x.get_fitness())\n",
        "            i += 1"
      ],
      "metadata": {
        "id": "-xjATaCVqZer"
      },
      "execution_count": 6,
      "outputs": []
    },
    {
      "cell_type": "code",
      "source": [
        "Population(5).print_population(0)"
      ],
      "metadata": {
        "colab": {
          "base_uri": "https://localhost:8080/"
        },
        "id": "FP-gc3aDquC6",
        "outputId": "176df0f4-918b-4ba7-f671-fbe56df017f9"
      },
      "execution_count": 7,
      "outputs": [
        {
          "output_type": "stream",
          "name": "stdout",
          "text": [
            "\n",
            "-----------------------Generation Summary---------------------------\n",
            "--------------------------------------------------------------------\n",
            "Generation # 0 | Fittest chromosome fitness: 67.59\n",
            "--------------------------------------------------------------------\n",
            "Chromosome # 0  : [(3, 0), (0, 1), (7, 2), (9, 0), (3, 5), (7, 5), (4, 0), (6, 3), (3, 2), (9, 7), (5, 6), (8, 7), (4, 8), (4, 9), (5, 2)] | Fitness 67.59\n",
            "Chromosome # 1  : [(3, 5), (6, 3), (5, 6), (7, 5), (3, 2), (4, 0), (5, 2), (0, 1), (3, 0), (7, 2), (4, 9), (8, 7), (4, 8), (9, 0), (9, 7)] | Fitness 70.18\n",
            "Chromosome # 2  : [(3, 5), (4, 9), (9, 7), (6, 3), (4, 0), (5, 2), (7, 5), (0, 1), (5, 6), (9, 0), (8, 7), (4, 8), (3, 2), (3, 0), (7, 2)] | Fitness 75.05\n",
            "Chromosome # 3  : [(7, 2), (5, 6), (9, 7), (3, 2), (3, 0), (8, 7), (6, 3), (4, 9), (4, 8), (5, 2), (0, 1), (7, 5), (4, 0), (9, 0), (3, 5)] | Fitness 81.69\n",
            "Chromosome # 4  : [(3, 5), (4, 8), (5, 2), (8, 7), (9, 0), (7, 2), (5, 6), (4, 0), (6, 3), (3, 2), (7, 5), (3, 0), (9, 7), (0, 1), (4, 9)] | Fitness 86.8\n"
          ]
        }
      ]
    },
    {
      "cell_type": "code",
      "source": [
        "def select_tournament(pop):\n",
        "    tournament_pop = Population(0)\n",
        "    i = 0\n",
        "    while i < TOURNAMENT_SELECTION_SIZE :\n",
        "        tournament_pop.get_chromosomes().append(pop.get_chromosomes()[random.randrange(0,POPULATION_SIZE)])\n",
        "        i += 1\n",
        "    tournament_pop.get_chromosomes().sort(key=lambda x: x.get_fitness(), reverse=False)\n",
        "    return tournament_pop.get_chromosomes()[0]"
      ],
      "metadata": {
        "id": "zgjLZkz-rnzQ"
      },
      "execution_count": 8,
      "outputs": []
    },
    {
      "cell_type": "code",
      "source": [
        "def crossover_chromosomes(parent1, parent2):\n",
        "    if random.random() < CROSSING_RATE:\n",
        "      villes = []\n",
        "      child1 = Chromosome(villes)\n",
        "      child2 = Chromosome(villes)\n",
        "\n",
        "      '''One Point Cross Over'''\n",
        "      index = random.randrange(1, NB_GENES)\n",
        "      # child1.genes = parent1.get_genes()[:index] + parent2.get_genes()[index:]\n",
        "      sub_1_child1 = parent1.get_genes()[:index]\n",
        "      sub_2_child1 = [item for item in parent2.get_genes() if item not in sub_1_child1]\n",
        "      child1.genes = sub_1_child1 + sub_2_child1\n",
        "      # child2.genes = parent2.get_genes()[:index] + parent1.get_genes()[index:]\n",
        "      sub_1_child2 = parent2.get_genes()[:index]\n",
        "      sub_2_child2 = [item for item in parent1.get_genes() if item not in sub_1_child2]\n",
        "      child2.genes = sub_1_child2 + sub_2_child2\n",
        "\n",
        "      print(\"\\nMaking a cross\")\n",
        "      print(\"Parent1: \",parent1.get_genes())\n",
        "      print(\"Parent2: \",parent2.get_genes())\n",
        "      print(\"Child1 : \", child1.get_genes())\n",
        "      print(\"Child2 : \", child2.get_genes())\n",
        "\n",
        "      return child1, child2\n",
        "\n",
        "    else:\n",
        "      return parent1, parent2\n"
      ],
      "metadata": {
        "id": "l3HqOyKSrt0x"
      },
      "execution_count": 11,
      "outputs": []
    },
    {
      "cell_type": "code",
      "source": [
        "def mutate(individual):\n",
        "    mutate_index1 = random.randrange(len(individual.get_genes()))\n",
        "    mutate_index2 = random.randrange(len(individual.get_genes()))\n",
        "\n",
        "    \n",
        "    individual.get_genes()[mutate_index1], individual.get_genes()[mutate_index2] = individual.get_genes()[mutate_index2], individual.get_genes()[mutate_index1]\n"
      ],
      "metadata": {
        "id": "OLDq-wIbrynD"
      },
      "execution_count": 12,
      "outputs": []
    },
    {
      "cell_type": "code",
      "source": [
        "def evolve(pop):\n",
        "    new_pop = Population(0)\n",
        "    #'''Keep The Fittests Chromosomes'''\n",
        "    #for i in range(NUMBER_OF_ELITE_CHROMOSOMES):\n",
        "    #    new_pop.get_chromosomes().append(pop.get_chromosomes()[i])\n",
        "\n",
        "    print(\"\\nCrossover and Mutation Trace:\")\n",
        "    while new_pop.get_chromosomes().__len__() < POPULATION_SIZE:\n",
        "        parent1 = select_tournament(pop)\n",
        "        parent2 = select_tournament(pop)\n",
        "\n",
        "\n",
        "        child1, child2 = crossover_chromosomes(parent1, parent2)\n",
        "\n",
        "\n",
        "        mutate(child1)\n",
        "        mutate(child2)\n",
        "\n",
        "\n",
        "        new_pop.get_chromosomes().append(child1)\n",
        "\n",
        "        # make sure to not depass the population size if we keep the elite\n",
        "        if len(new_pop.get_chromosomes()) < POPULATION_SIZE:\n",
        "            new_pop.get_chromosomes().append(child2)\n",
        "\n",
        "    new_pop.get_chromosomes().sort(key=lambda x: x.get_fitness(), reverse=False)   \n",
        "    return new_pop"
      ],
      "metadata": {
        "id": "4PbVSrHwsD3N"
      },
      "execution_count": 13,
      "outputs": []
    },
    {
      "cell_type": "code",
      "source": [
        "generation_number = 0\n",
        "MAX_FITNESS = 10\n",
        "population = Population(POPULATION_SIZE)\n",
        "population.print_population(generation_number)\n",
        "\n",
        "nb = 0\n",
        "while population.get_chromosomes()[0].get_fitness() > MAX_FITNESS and nb < 3 :\n",
        "  nb = nb + 1\n",
        "  generation_number += 1\n",
        "  population = evolve(population)\n",
        "  population.print_population(generation_number)"
      ],
      "metadata": {
        "colab": {
          "base_uri": "https://localhost:8080/"
        },
        "id": "PUASmn_msNA2",
        "outputId": "7a8f168d-dccd-4fe9-ea4f-065887878cb7"
      },
      "execution_count": 14,
      "outputs": [
        {
          "output_type": "stream",
          "name": "stdout",
          "text": [
            "\n",
            "-----------------------Generation Summary---------------------------\n",
            "--------------------------------------------------------------------\n",
            "Generation # 0 | Fittest chromosome fitness: 65.4\n",
            "--------------------------------------------------------------------\n",
            "Chromosome # 0  : [(5, 2), (3, 2), (0, 1), (9, 0), (7, 5), (9, 7), (3, 5), (5, 6), (8, 7), (3, 0), (4, 8), (4, 9), (6, 3), (7, 2), (4, 0)] | Fitness 65.4\n",
            "Chromosome # 1  : [(6, 3), (8, 7), (9, 7), (3, 2), (3, 0), (4, 0), (7, 2), (5, 2), (4, 9), (7, 5), (9, 0), (4, 8), (3, 5), (5, 6), (0, 1)] | Fitness 67.57\n",
            "Chromosome # 2  : [(3, 2), (9, 0), (6, 3), (4, 8), (7, 2), (7, 5), (8, 7), (4, 9), (0, 1), (3, 0), (9, 7), (3, 5), (5, 2), (4, 0), (5, 6)] | Fitness 76.42\n",
            "Chromosome # 3  : [(7, 2), (3, 2), (4, 9), (0, 1), (9, 7), (5, 2), (3, 0), (4, 0), (3, 5), (5, 6), (9, 0), (4, 8), (8, 7), (6, 3), (7, 5)] | Fitness 78.88\n",
            "Chromosome # 4  : [(0, 1), (4, 9), (3, 5), (6, 3), (3, 2), (4, 8), (5, 2), (7, 5), (9, 0), (4, 0), (5, 6), (3, 0), (9, 7), (7, 2), (8, 7)] | Fitness 88.1\n",
            "\n",
            "Crossover and Mutation Trace:\n",
            "\n",
            "Making a cross\n",
            "Parent1:  [(6, 3), (8, 7), (9, 7), (3, 2), (3, 0), (4, 0), (7, 2), (5, 2), (4, 9), (7, 5), (9, 0), (4, 8), (3, 5), (5, 6), (0, 1)]\n",
            "Parent2:  [(3, 2), (9, 0), (6, 3), (4, 8), (7, 2), (7, 5), (8, 7), (4, 9), (0, 1), (3, 0), (9, 7), (3, 5), (5, 2), (4, 0), (5, 6)]\n",
            "Child1 :  [(6, 3), (8, 7), (9, 7), (3, 2), (9, 0), (4, 8), (7, 2), (7, 5), (4, 9), (0, 1), (3, 0), (3, 5), (5, 2), (4, 0), (5, 6)]\n",
            "Child2 :  [(3, 2), (9, 0), (6, 3), (8, 7), (9, 7), (3, 0), (4, 0), (7, 2), (5, 2), (4, 9), (7, 5), (4, 8), (3, 5), (5, 6), (0, 1)]\n",
            "\n",
            "Making a cross\n",
            "Parent1:  [(6, 3), (8, 7), (9, 7), (3, 2), (3, 0), (4, 0), (7, 2), (5, 2), (4, 9), (7, 5), (9, 0), (4, 8), (3, 5), (5, 6), (0, 1)]\n",
            "Parent2:  [(6, 3), (8, 7), (9, 7), (3, 2), (3, 0), (4, 0), (7, 2), (5, 2), (4, 9), (7, 5), (9, 0), (4, 8), (3, 5), (5, 6), (0, 1)]\n",
            "Child1 :  [(6, 3), (8, 7), (9, 7), (3, 2), (3, 0), (4, 0), (7, 2), (5, 2), (4, 9), (7, 5), (9, 0), (4, 8), (3, 5), (5, 6), (0, 1)]\n",
            "Child2 :  [(6, 3), (8, 7), (9, 7), (3, 2), (3, 0), (4, 0), (7, 2), (5, 2), (4, 9), (7, 5), (9, 0), (4, 8), (3, 5), (5, 6), (0, 1)]\n",
            "\n",
            "-----------------------Generation Summary---------------------------\n",
            "--------------------------------------------------------------------\n",
            "Generation # 1 | Fittest chromosome fitness: 63.81\n",
            "--------------------------------------------------------------------\n",
            "Chromosome # 0  : [(3, 2), (9, 0), (6, 3), (8, 7), (9, 7), (3, 0), (4, 0), (7, 2), (5, 2), (4, 9), (7, 5), (4, 8), (3, 5), (5, 6), (0, 1)] | Fitness 63.81\n",
            "Chromosome # 1  : [(6, 3), (8, 7), (9, 7), (3, 2), (3, 0), (5, 6), (7, 2), (5, 2), (4, 9), (7, 5), (9, 0), (4, 8), (3, 5), (4, 0), (0, 1)] | Fitness 73.68\n",
            "Chromosome # 2  : [(6, 3), (8, 7), (9, 7), (3, 2), (9, 0), (5, 6), (7, 2), (7, 5), (4, 9), (0, 1), (3, 0), (3, 5), (5, 2), (4, 0), (4, 8)] | Fitness 75.62\n",
            "Chromosome # 3  : [(5, 2), (3, 2), (0, 1), (9, 0), (7, 5), (9, 7), (3, 5), (5, 6), (8, 7), (3, 0), (4, 9), (4, 0), (6, 3), (7, 2), (4, 8)] | Fitness 78.62\n",
            "Chromosome # 4  : [(5, 2), (3, 2), (0, 1), (9, 0), (7, 5), (9, 7), (3, 5), (5, 6), (8, 7), (3, 0), (4, 9), (4, 0), (6, 3), (7, 2), (4, 8)] | Fitness 78.62\n",
            "\n",
            "Crossover and Mutation Trace:\n",
            "\n",
            "Making a cross\n",
            "Parent1:  [(3, 2), (9, 0), (6, 3), (8, 7), (9, 7), (3, 0), (4, 0), (7, 2), (5, 2), (4, 9), (7, 5), (4, 8), (3, 5), (5, 6), (0, 1)]\n",
            "Parent2:  [(6, 3), (8, 7), (9, 7), (3, 2), (9, 0), (5, 6), (7, 2), (7, 5), (4, 9), (0, 1), (3, 0), (3, 5), (5, 2), (4, 0), (4, 8)]\n",
            "Child1 :  [(3, 2), (9, 0), (6, 3), (8, 7), (9, 7), (3, 0), (4, 0), (7, 2), (5, 2), (4, 9), (7, 5), (4, 8), (5, 6), (0, 1), (3, 5)]\n",
            "Child2 :  [(6, 3), (8, 7), (9, 7), (3, 2), (9, 0), (5, 6), (7, 2), (7, 5), (4, 9), (0, 1), (3, 0), (3, 5), (4, 0), (5, 2), (4, 8)]\n",
            "\n",
            "Making a cross\n",
            "Parent1:  [(3, 2), (9, 0), (6, 3), (8, 7), (9, 7), (3, 0), (4, 0), (7, 2), (5, 2), (4, 9), (7, 5), (4, 8), (3, 5), (5, 6), (0, 1)]\n",
            "Parent2:  [(6, 3), (8, 7), (9, 7), (3, 2), (9, 0), (5, 6), (7, 2), (7, 5), (4, 9), (0, 1), (3, 0), (3, 5), (5, 2), (4, 0), (4, 8)]\n",
            "Child1 :  [(3, 2), (9, 0), (6, 3), (8, 7), (9, 7), (3, 0), (4, 0), (7, 2), (5, 2), (4, 9), (5, 6), (7, 5), (0, 1), (3, 5), (4, 8)]\n",
            "Child2 :  [(6, 3), (8, 7), (9, 7), (3, 2), (9, 0), (5, 6), (7, 2), (7, 5), (4, 9), (0, 1), (3, 0), (4, 0), (5, 2), (4, 8), (3, 5)]\n",
            "\n",
            "-----------------------Generation Summary---------------------------\n",
            "--------------------------------------------------------------------\n",
            "Generation # 2 | Fittest chromosome fitness: 67.72\n",
            "--------------------------------------------------------------------\n",
            "Chromosome # 0  : [(3, 2), (9, 0), (6, 3), (4, 9), (9, 7), (3, 0), (4, 0), (7, 2), (5, 2), (8, 7), (7, 5), (4, 8), (5, 6), (0, 1), (3, 5)] | Fitness 67.72\n",
            "Chromosome # 1  : [(6, 3), (8, 7), (9, 7), (5, 6), (9, 0), (3, 2), (7, 2), (7, 5), (4, 9), (0, 1), (3, 0), (3, 5), (4, 0), (5, 2), (4, 8)] | Fitness 71.04\n",
            "Chromosome # 2  : [(6, 3), (7, 5), (9, 7), (3, 2), (3, 0), (5, 6), (7, 2), (4, 0), (4, 9), (8, 7), (9, 0), (4, 8), (3, 5), (5, 2), (0, 1)] | Fitness 77.45\n",
            "Chromosome # 3  : [(6, 3), (7, 5), (9, 7), (3, 2), (3, 0), (5, 6), (7, 2), (4, 0), (4, 9), (8, 7), (9, 0), (4, 8), (3, 5), (5, 2), (0, 1)] | Fitness 77.45\n",
            "Chromosome # 4  : [(3, 2), (9, 0), (6, 3), (8, 7), (9, 7), (3, 0), (5, 6), (7, 2), (5, 2), (4, 9), (4, 0), (7, 5), (0, 1), (3, 5), (4, 8)] | Fitness 82.26\n",
            "\n",
            "Crossover and Mutation Trace:\n",
            "\n",
            "Making a cross\n",
            "Parent1:  [(6, 3), (7, 5), (9, 7), (3, 2), (3, 0), (5, 6), (7, 2), (4, 0), (4, 9), (8, 7), (9, 0), (4, 8), (3, 5), (5, 2), (0, 1)]\n",
            "Parent2:  [(6, 3), (7, 5), (9, 7), (3, 2), (3, 0), (5, 6), (7, 2), (4, 0), (4, 9), (8, 7), (9, 0), (4, 8), (3, 5), (5, 2), (0, 1)]\n",
            "Child1 :  [(6, 3), (7, 5), (9, 7), (3, 2), (3, 0), (5, 6), (7, 2), (4, 0), (4, 9), (8, 7), (9, 0), (4, 8), (3, 5), (5, 2), (0, 1)]\n",
            "Child2 :  [(6, 3), (7, 5), (9, 7), (3, 2), (3, 0), (5, 6), (7, 2), (4, 0), (4, 9), (8, 7), (9, 0), (4, 8), (3, 5), (5, 2), (0, 1)]\n",
            "\n",
            "-----------------------Generation Summary---------------------------\n",
            "--------------------------------------------------------------------\n",
            "Generation # 3 | Fittest chromosome fitness: 74.01\n",
            "--------------------------------------------------------------------\n",
            "Chromosome # 0  : [(0, 1), (8, 7), (9, 7), (5, 6), (9, 0), (3, 2), (7, 2), (7, 5), (4, 9), (3, 5), (3, 0), (6, 3), (4, 0), (5, 2), (4, 8)] | Fitness 74.01\n",
            "Chromosome # 1  : [(6, 3), (7, 5), (9, 7), (3, 2), (3, 0), (5, 6), (7, 2), (9, 0), (4, 9), (8, 7), (4, 0), (4, 8), (3, 5), (5, 2), (0, 1)] | Fitness 77.52\n",
            "Chromosome # 2  : [(3, 2), (6, 3), (9, 0), (4, 9), (9, 7), (3, 0), (8, 7), (7, 2), (5, 2), (4, 0), (7, 5), (4, 8), (5, 6), (0, 1), (3, 5)] | Fitness 77.62\n",
            "Chromosome # 3  : [(3, 2), (6, 3), (9, 0), (4, 9), (9, 7), (3, 0), (8, 7), (7, 2), (5, 2), (4, 0), (7, 5), (4, 8), (5, 6), (0, 1), (3, 5)] | Fitness 77.62\n",
            "Chromosome # 4  : [(6, 3), (7, 5), (9, 7), (3, 2), (3, 0), (5, 6), (7, 2), (4, 0), (4, 9), (9, 0), (8, 7), (4, 8), (3, 5), (5, 2), (0, 1)] | Fitness 77.96\n"
          ]
        }
      ]
    }
  ]
}